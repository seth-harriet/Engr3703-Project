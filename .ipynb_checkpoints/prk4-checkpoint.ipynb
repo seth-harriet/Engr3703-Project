{
 "cells": [
  {
   "cell_type": "code",
   "execution_count": 1,
   "metadata": {},
   "outputs": [],
   "source": [
    "%matplotlib inline\n",
    "from math import *\n",
    "import numpy as np\n",
    "import matplotlib.pyplot as plt\n",
    "\n",
    "fx = lambda t,x,v: v    #fx/dt which amounts to velocity\n",
    "fv = lambda t,x,v,force,zeta,omega: -2*zeta*omega*v - pow(omega,2)*x + force  #fv/dt which amounts to acceleration \n",
    "\n",
    "def rk4_x (ti, xi, vi, c1, c2, c3, c4, a2, a3, a4,b21, b31, b32, b41, b42, b43,h):\n",
    "    K1 = fx(ti,xi,vi)\n",
    "    K2 = fx(ti+a2*h,xi+b21*K1*h,vi)\n",
    "    K3 = fx(ti+a3*h,xi+b31*K1*h+b32*K2*h,vi)\n",
    "    K4 = fx(ti+a4*h,xi+b41*K1*h+b42*K2*h+b43*K3*h,vi)   \n",
    "    yip1 = xi+(c1*K1+c2*K2+c3*K3+c4*K4)*h\n",
    "    return yip1\n",
    "\n",
    "def rk4_v (ti, xi, vi, force, zeta, omega, c1, c2, c3, c4, a2, a3, a4,b21, b31, b32, b41, b42, b43,h):\n",
    "    K1 = fv(ti,xi,vi,force,zeta,omega)\n",
    "    K2 = fv(ti+a2*h,xi,vi+b21*K1*h,force,zeta,omega)\n",
    "    K3 = fv(ti+a3*h,xi,vi+b31*K1*h+b32*K2*h,force,zeta,omega)\n",
    "    K4 = fv(ti+a4*h,xi,vi+b41*K1*h+b42*K2*h+b43*K3*h,force,zeta,omega)     \n",
    "    yip1 = vi+(c1*K1+c2*K2+c3*K3+c4*K4)*h\n",
    "    return yip1\n",
    "\n",
    "c1 = 1./6\n",
    "c2 = 2./6\n",
    "c3 = 2./6\n",
    "c4 = 1./6\n",
    "a2 = 1./2\n",
    "a3 = 1./2\n",
    "a4 = 1.\n",
    "b21 = 1./2\n",
    "b31 = 0.\n",
    "b32 = 1./2\n",
    "b41 = 0.\n",
    "b42 = 0.\n",
    "b43 = 1.\n",
    "\n",
    "def myplot_positon(t_rk4,x_rk4):\n",
    "    plot1=plt.figure(1)\n",
    "    plt.plot(t_rk4,x_rk4)\n",
    "    plt.title(\"Position Vs. Time\")\n",
    "    plt.xlabel(\"Time (s)\")\n",
    "    plt.ylabel(\"Position (m)\")\n",
    "    \n",
    "    return \n",
    "\n",
    "def myplot_velocity(t_rk4,x_rk4):\n",
    "    plot2=plt.figure(2)\n",
    "    plt.plot(t_rk4,v_rk4, color=\"orange\")\n",
    "    plt.title(\"Velocity Vs. Time\")\n",
    "    plt.xlabel(\"Time (s)\")\n",
    "    plt.ylabel(\"Velocity (m/s)\")\n",
    "   \n",
    "    return"
   ]
  },
  {
   "cell_type": "code",
   "execution_count": null,
   "metadata": {},
   "outputs": [],
   "source": []
  }
 ],
 "metadata": {
  "kernelspec": {
   "display_name": "Python 3",
   "language": "python",
   "name": "python3"
  },
  "language_info": {
   "codemirror_mode": {
    "name": "ipython",
    "version": 3
   },
   "file_extension": ".py",
   "mimetype": "text/x-python",
   "name": "python",
   "nbconvert_exporter": "python",
   "pygments_lexer": "ipython3",
   "version": "3.8.6"
  }
 },
 "nbformat": 4,
 "nbformat_minor": 4
}
