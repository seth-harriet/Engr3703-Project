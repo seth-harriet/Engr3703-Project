{
 "cells": [
  {
   "cell_type": "markdown",
   "metadata": {},
   "source": [
    "# ENGR 3703 Project - What you have to do\n",
    "\n",
    "The project involves a very common problem in engineering - the spring-mass-damper problem. It has applications in electrical and mechanical engineering and beyond. The basic problem is below:\n",
    "\n",
    "![image info](./spring_mass_damper.jpg)\n",
    "\n",
    "In the figure the variables and parameters have the following meaning:\n",
    "\n",
    "- $m$ = mass (kg)\n",
    "- $c$ = damping constant (kg/s) - proportional to the speed of $m$\n",
    "- $k$ = spring constant (N/s/s) - proportional to the distance $m$ is from it's \n",
    "- $x(t)$ = position of $m$ as a function of time\n",
    "- $F(t)$ = A force applied to $m$ as a function of time\n",
    "\n",
    "In the background notebook, we determined that:\n",
    "\n",
    "$\\large \\ddot x + 2 \\zeta \\omega_n \\dot x + {\\omega}_n^2 x = \\frac{F(t)}{m}$\n",
    "\n",
    "\n",
    "1. Create a github repository to host your project files. If you do not have a github account you will need to create one. I will need a link to the repo. If the repo is not public you will need to make me a collaborator so I can access the repo.\n",
    "    a. You can have as many files as you want in the repo, but there should be a single jupyter notebook called: yourname_engr3703_fall2021_project.ipynb. This will serve as your report for the project.\n",
    "2. Write python code that uses RK 4th order to solve the ODE above. For the first part of the project, you will assume F(t) is zero. Later you will be using F(t), so plan accordingly.\n",
    "3. Test your code with all three unforced cases - overdamping, critically damped, and underdamping. You will choose the values of $\\omega_n$ and $\\zeta$. You will need to demonstrate your code works over a range of time-step sizes for all cases. Code and graphics are required. You should calculate and verify that both $x(t)$ and $v(t)$ can reliably be calculated using Runge-Kutta by numerically and graphically comparing the analytical solutions and the calculated values from your RK program.\n",
    "4. Test your code using values of F(t)/m. You must choose at least three values two of which may not be constant values of F(t) - i.e. there has to be some time variation of F. You should analyze the results of these tests. If there are known solutions for a given F(t) compare to those. In the end you need to convice the reader (Dr. Lemley) that your code is accurately calculating both x(t) and v(t) for each of these cases. Again, numerical and graphical evidence is required.\n",
    "5. Finally test your code with $F(t)/m = Acos{\\omega_f t}$ where you choose the value of $A$. You should vary $\\omega_d$ over a range of values such that you can see instances where the oscillations (x(t)) are growing out of control over time (i.e. resonance). Graphically show how this occuring by displaying cases with different $\\omega_f$ change the velocity and position over time.\n",
    "\n",
    "\n",
    "## Metrics for Grading\n",
    "- 25% Correctly Working Code\n",
    "- 25% Quality of Analysis \n",
    "- 25% Quality of Graphics \n",
    "- 25% Overall Quality of the Notebook - including formatting, readability, and clarity\n",
    "\n",
    "### Project Collaboration\n",
    "\n",
    "It is fine in class to discuss what you are doing on your project. However, what you submit for the project has to be your own work. It would be easy to copy someone else's code, but don't do it. The result will be a zero for the project. The analysis should be your own as well. Basically, only submit work you did yourself. The result of submitting *any* work someone else has done will be a *zero for the project grade.*\n",
    "\n",
    "\n"
   ]
  },
  {
   "cell_type": "code",
   "execution_count": null,
   "metadata": {},
   "outputs": [],
   "source": []
  },
  {
   "cell_type": "code",
   "execution_count": null,
   "metadata": {},
   "outputs": [],
   "source": []
  }
 ],
 "metadata": {
  "kernelspec": {
   "display_name": "Python 3",
   "language": "python",
   "name": "python3"
  },
  "language_info": {
   "codemirror_mode": {
    "name": "ipython",
    "version": 3
   },
   "file_extension": ".py",
   "mimetype": "text/x-python",
   "name": "python",
   "nbconvert_exporter": "python",
   "pygments_lexer": "ipython3",
   "version": "3.8.6"
  }
 },
 "nbformat": 4,
 "nbformat_minor": 4
}
